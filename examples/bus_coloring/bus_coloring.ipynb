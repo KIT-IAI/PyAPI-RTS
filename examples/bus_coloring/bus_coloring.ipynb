{
 "cells": [
  {
   "cell_type": "markdown",
   "metadata": {},
   "source": [
    "# Bus Coloring\n",
    "\n",
    "From the thesis, p.39f.\n",
    "\n",
    "Loads the IEEE14 model, identifies each connected set of bus components and colors connected buses in the same color."
   ]
  },
  {
   "cell_type": "code",
   "execution_count": null,
   "metadata": {},
   "outputs": [],
   "source": [
    "import networkx as nx\n",
    "import random\n",
    "\n",
    "from pyapi_rts.api import *\n",
    "from pyapi_rts.generated.BUS import BUS\n",
    "from pyapi_rts.generated.rtdssharcsldBUSLABEL import rtdssharcsldBUSLABEL\n",
    "from pyapi_rts.generated.enums.ScolEnumParameter import ScolEnum\n",
    "\n",
    "fx = Draft()\n",
    "fx.read_file(\"ieee14.dfx\")\n",
    "\n",
    "G = fx._subsystems[0].get_connection_graph()\n",
    "SG = G.subgraph([n for n, attrdict in G.nodes(data=True) if not \"3P2W\" in attrdict['type']])\n",
    "\n",
    "start_nodes = [n for n, ad in G.nodes(data=True) if ad['type'] == 'rtds_sharc_sld_BUSLABEL']\n",
    "bus_list = fx.get_components_by_type(\"BUS\", False)\n",
    "\n",
    "colors = list(ScolEnum)\n",
    "colors.remove(ScolEnum.WHITEWHITE)\n",
    "\n",
    "for start in start_nodes:\n",
    "    id_list = list(nx.dfs_postorder_nodes(SG, source=start))\n",
    "    col = random.choice(colors)\n",
    "    count = 0\n",
    "    for bus in bus_list:\n",
    "        if bus.uuid in id_list:\n",
    "            bus: BUS = bus\n",
    "            bus.CONFIGURATION.SCOL.set_value(col)\n",
    "            count += 1\n",
    "            fx._subsystems[0].modify_component(bus)\n",
    "    buslabel: rtdssharcsldBUSLABEL = fx._subsystems[0].get_by_id(\n",
    "        start, False)\n",
    "    buslabel.Parameters.COL.set_value(col)\n",
    "    print(f\"Found {count} buses, coloring with {col}\")\n",
    "    fx._subsystems[0].modify_component(buslabel)\n",
    "\n",
    "fx.write_file(\"ieee_out.dfx\")"
   ]
  },
  {
   "cell_type": "markdown",
   "metadata": {},
   "source": [
    "## Only Color Buses Directly Connected to Buslabel\n",
    "\n",
    "Using get_connected_at_point()"
   ]
  },
  {
   "cell_type": "code",
   "execution_count": null,
   "metadata": {},
   "outputs": [],
   "source": [
    "import random\n",
    "\n",
    "from pyapi_rts.api import *\n",
    "from pyapi_rts.generated.BUS import BUS\n",
    "from pyapi_rts.generated.enums.ScolEnumParameter import ScolEnum\n",
    "\n",
    "colors = list(ScolEnum)\n",
    "colors.remove(ScolEnum.WHITEWHITE)\n",
    "\n",
    "draft = Draft()\n",
    "draft.read_file(\"ieee14.dfx\")\n",
    "\n",
    "buslabels = draft.get_components_by_type(\"rtds_sharc_sld_BUSLABEL\", True)\n",
    "for label in buslabels:\n",
    "    color = random.choice(colors)\n",
    "    label.Parameters.COL.set_value(color)\n",
    "    draft.subsystems[0].modify_component(label)\n",
    "    for connected_comp in label.parent.get_connected_at_point(label.uuid, \"A1\", return_connecting=True):\n",
    "        if isinstance(connected_comp, BUS):\n",
    "            connected_comp.CONFIGURATION.SCOL.set_value(color)\n",
    "            connected_comp.parent.modify_component(connected_comp)\n",
    "\n",
    "draft.write_file(\"ieee_out_new.dfx\")"
   ]
  }
 ],
 "metadata": {
  "kernelspec": {
   "display_name": "Python 3",
   "language": "python",
   "name": "python3"
  },
  "language_info": {
   "codemirror_mode": {
    "name": "ipython",
    "version": 3
   },
   "file_extension": ".py",
   "mimetype": "text/x-python",
   "name": "python",
   "nbconvert_exporter": "python",
   "pygments_lexer": "ipython3",
   "version": "3.10.2"
  },
  "orig_nbformat": 4,
  "vscode": {
   "interpreter": {
    "hash": "17ea5b0a0ec215a48e4223cf0b60fc7fcf2976151bd3d235c04959385f48c964"
   }
  }
 },
 "nbformat": 4,
 "nbformat_minor": 2
}
