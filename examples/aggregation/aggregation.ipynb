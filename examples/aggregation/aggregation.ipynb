{
 "cells": [
  {
   "cell_type": "markdown",
   "metadata": {},
   "source": [
    "# Component aggregation"
   ]
  },
  {
   "cell_type": "code",
   "execution_count": 2,
   "metadata": {},
   "outputs": [
    {
     "ename": "ModuleNotFoundError",
     "evalue": "No module named 'pyapi_rts'",
     "output_type": "error",
     "traceback": [
      "\u001b[1;31m---------------------------------------------------------------------------\u001b[0m",
      "\u001b[1;31mModuleNotFoundError\u001b[0m                       Traceback (most recent call last)",
      "\u001b[1;32mc:\\Users\\ah4430\\Code\\PyAPI-RTS\\PyAPI-RTS\\examples\\aggregation\\aggregation.ipynb Cell 2\u001b[0m in \u001b[0;36m<cell line: 1>\u001b[1;34m()\u001b[0m\n\u001b[1;32m----> <a href='vscode-notebook-cell:/c%3A/Users/ah4430/Code/PyAPI-RTS/PyAPI-RTS/examples/aggregation/aggregation.ipynb#W1sZmlsZQ%3D%3D?line=0'>1</a>\u001b[0m \u001b[39mfrom\u001b[39;00m \u001b[39mpyapi_rts\u001b[39;00m\u001b[39m.\u001b[39;00m\u001b[39mgenerated\u001b[39;00m\u001b[39m.\u001b[39;00m\u001b[39mlfrtdssharcsldSHUNTCAP\u001b[39;00m \u001b[39mimport\u001b[39;00m (\n\u001b[0;32m      <a href='vscode-notebook-cell:/c%3A/Users/ah4430/Code/PyAPI-RTS/PyAPI-RTS/examples/aggregation/aggregation.ipynb#W1sZmlsZQ%3D%3D?line=1'>2</a>\u001b[0m     lfrtdssharcsldSHUNTCAP,\n\u001b[0;32m      <a href='vscode-notebook-cell:/c%3A/Users/ah4430/Code/PyAPI-RTS/PyAPI-RTS/examples/aggregation/aggregation.ipynb#W1sZmlsZQ%3D%3D?line=2'>3</a>\u001b[0m )\n\u001b[0;32m      <a href='vscode-notebook-cell:/c%3A/Users/ah4430/Code/PyAPI-RTS/PyAPI-RTS/examples/aggregation/aggregation.ipynb#W1sZmlsZQ%3D%3D?line=3'>4</a>\u001b[0m \u001b[39mfrom\u001b[39;00m \u001b[39mpyapi_rts\u001b[39;00m\u001b[39m.\u001b[39;00m\u001b[39mgenerated\u001b[39;00m\u001b[39m.\u001b[39;00m\u001b[39mrtdsudcDYLOAD\u001b[39;00m \u001b[39mimport\u001b[39;00m (\n\u001b[0;32m      <a href='vscode-notebook-cell:/c%3A/Users/ah4430/Code/PyAPI-RTS/PyAPI-RTS/examples/aggregation/aggregation.ipynb#W1sZmlsZQ%3D%3D?line=4'>5</a>\u001b[0m     rtdsudcDYLOAD,\n\u001b[0;32m      <a href='vscode-notebook-cell:/c%3A/Users/ah4430/Code/PyAPI-RTS/PyAPI-RTS/examples/aggregation/aggregation.ipynb#W1sZmlsZQ%3D%3D?line=5'>6</a>\u001b[0m )\n\u001b[0;32m      <a href='vscode-notebook-cell:/c%3A/Users/ah4430/Code/PyAPI-RTS/PyAPI-RTS/examples/aggregation/aggregation.ipynb#W1sZmlsZQ%3D%3D?line=7'>8</a>\u001b[0m \u001b[39mfrom\u001b[39;00m \u001b[39mpyapi_rts\u001b[39;00m\u001b[39m.\u001b[39;00m\u001b[39mapi\u001b[39;00m \u001b[39mimport\u001b[39;00m Draft, Component\n",
      "\u001b[1;31mModuleNotFoundError\u001b[0m: No module named 'pyapi_rts'"
     ]
    }
   ],
   "source": [
    "from pyapi_rts.generated.lfrtdssharcsldSHUNTCAP import (\n",
    "    lfrtdssharcsldSHUNTCAP,\n",
    ")\n",
    "from pyapi_rts.generated.rtdsudcDYLOAD import (\n",
    "    rtdsudcDYLOAD,\n",
    ")\n",
    "\n",
    "from pyapi_rts.api import Draft, Component\n",
    "\n",
    "\n",
    "def sum_by_key(cs: list[Component], key: str) -> float:\n",
    "    # Sums up the values of a component's attribute\n",
    "    return sum(map((lambda c: c.get_by_key(key)), cs))\n",
    "\n",
    "draft = Draft()\n",
    "draft.read_file(\"kit_aggregation_grouped.dfx\")\n",
    "\n",
    "B123_4_400V = next(\n",
    "    filter(\n",
    "        (lambda c: c.name == \"B123_4_400V\"),\n",
    "        draft.subsystems[0].get_components(),\n",
    "    ),\n",
    "    None,\n",
    ")\n",
    "# Get relevant components\n",
    "dyloads = list(\n",
    "    filter(\n",
    "        (lambda c: isinstance(c, rtdsudcDYLOAD)),\n",
    "        draft.subsystems[0].get_connected_to(B123_4_400V),\n",
    "    )\n",
    ")\n",
    "print(f\"Found {len(dyloads)} Dyload components\")\n",
    "shunts = list(\n",
    "    filter(\n",
    "        (lambda c: isinstance(c, lfrtdssharcsldSHUNTCAP)),\n",
    "        draft.subsystems[0].get_connected_to(B123_4_400V),\n",
    "    )\n",
    ")\n",
    "print(f\"Found {len(shunts)} Shunt components\")\n",
    "\n",
    "graph = draft.subsystems[0].get_connection_graph()\n",
    "\n",
    "# Sum up the values of the dyload, write to first dyload\n",
    "dyl: rtdsudcDYLOAD = dyloads[0].duplicate()\n",
    "dyl.set_by_key(\"Qinit\", sum_by_key(dyloads, \"Qinit\"))\n",
    "dyl.set_by_key(\"Pinit\", sum_by_key(dyloads, \"Pinit\"))\n",
    "draft.subsystems[0].modify_component(dyl)\n",
    "for dyload in dyloads[1:]:\n",
    "    for neighbor in graph.neighbors(dyload.uuid):\n",
    "        # Remove buses and wires connected to the dyload\n",
    "        draft.subsystems[0].remove_component(neighbor, False)\n",
    "    draft.subsystems[0].remove_component(dyload.uuid, False)\n",
    "    print(f\"Removed Dyload with UUID {dyload.uuid}\")\n",
    "\n",
    "# Sum up the values of the shunts, write to first shunt\n",
    "shunt: lfrtdssharcsldSHUNTCAP = shunts[0].duplicate()\n",
    "shunt.set_by_key(\"CuF\", sum_by_key(shunts, \"CuF\"))\n",
    "draft.subsystems[0].modify_component(shunt)\n",
    "\n",
    "for shunt in shunts[1:]:\n",
    "    draft.subsystems[0].remove_component(shunt.uuid, False)\n",
    "    for neighbor in graph.neighbors(shunt.uuid):\n",
    "        # Remove buses connected to the shunt\n",
    "        draft.subsystems[0].remove_component(neighbor, False)\n",
    "    print(f\"Removed Shunt with UUID {neighbor}\")\n",
    "\n",
    "# Remove wirelabels not connected to anything\n",
    "for wirelabel in draft.get_components_by_type(\"wirelabel\", False):\n",
    "    if len(draft.subsystems[0].get_connected_to(wirelabel)) == 1:\n",
    "        # Only connected to itself, remove\n",
    "        draft.subsystems[0].remove_component(wirelabel.uuid, False)\n",
    "\n",
    "draft.write_file(\"aggregation_out.dfx\")\n",
    "\n",
    "print(f\"Components: {len(draft.get_components())}\")\n",
    "print(f\"Qinit sum: {dyl.PANDQSETTINGS.Qinit.value}\")\n",
    "print(f\"Pinit sum: {dyl.PANDQSETTINGS.Pinit.value}\")\n",
    "print(f\"CuF sum: {shunt.CONFIGURATION.CuF.value}\")"
   ]
  },
  {
   "cell_type": "markdown",
   "metadata": {},
   "source": [
    "## Visualization\n",
    "\n",
    "Look at the connection graph before and after the script"
   ]
  },
  {
   "cell_type": "code",
   "execution_count": null,
   "metadata": {},
   "outputs": [],
   "source": [
    "import networkx as nx\n",
    "import matplotlib.pyplot as plt\n",
    "\n",
    "draft_old = Draft()\n",
    "draft_old.read_file(\"kit_aggregation_grouped.dfx\")\n",
    "\n",
    "G_old = draft_old.subsystems[0].get_connection_graph()\n",
    "\n",
    "color_map_old = []\n",
    "for node in G_old.nodes():\n",
    "    if isinstance(draft_old.get_by_id(node), rtdsudcDYLOAD):\n",
    "        color_map_old.append(\"red\")\n",
    "    elif isinstance(draft_old.get_by_id(node), lfrtdssharcsldSHUNTCAP):\n",
    "        color_map_old.append(\"blue\")\n",
    "    else:\n",
    "        color_map_old.append(\"green\")\n",
    "\n",
    "nx.draw(G_old, with_labels=False, node_color=color_map_old)\n",
    "plt.show()\n",
    "\n",
    "G_new = draft.subsystems[0].get_connection_graph()\n",
    "\n",
    "color_map_new = []\n",
    "for node in G_new.nodes():\n",
    "    if isinstance(draft.get_by_id(node), rtdsudcDYLOAD):\n",
    "        color_map_new.append(\"red\")\n",
    "    elif isinstance(draft.get_by_id(node), lfrtdssharcsldSHUNTCAP):\n",
    "        color_map_new.append(\"blue\")\n",
    "    else:\n",
    "        color_map_new.append(\"green\")\n",
    "nx.draw(G_new, with_labels=False, node_color=color_map_new)\n",
    "plt.show()"
   ]
  }
 ],
 "metadata": {
  "kernelspec": {
   "display_name": "pyapi_rts",
   "language": "python",
   "name": "python3"
  },
  "language_info": {
   "codemirror_mode": {
    "name": "ipython",
    "version": 3
   },
   "file_extension": ".py",
   "mimetype": "text/x-python",
   "name": "python",
   "nbconvert_exporter": "python",
   "pygments_lexer": "ipython3",
   "version": "3.10.4"
  },
  "orig_nbformat": 4,
  "vscode": {
   "interpreter": {
    "hash": "57272b43dbba6755253de490529220922693f1c3c6601eace8bb30930a5e00cb"
   }
  }
 },
 "nbformat": 4,
 "nbformat_minor": 2
}
