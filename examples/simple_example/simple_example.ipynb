{
 "cells": [
  {
   "cell_type": "markdown",
   "metadata": {},
   "source": [
    "# Simple Example\n",
    "\n",
    "A simple example for the use of the pyapi_rts API.\n",
    "\n",
    "## Creating a new Draft"
   ]
  },
  {
   "cell_type": "code",
   "execution_count": null,
   "metadata": {},
   "outputs": [],
   "source": [
    "from pyapi_rts.api import Draft, Subsystem\n",
    "\n",
    "draft = Draft()\n",
    "subsystem = Subsystem(draft, 0)\n",
    "subsystem.canvas_size_x = 1000\n",
    "subsystem.canvas_size_y = 1000\n",
    "subsystem.tab_name = \"Test\"\n",
    "draft.add_subsystem(subsystem)\n",
    "draft.write_file(\"test.dfx\")\n",
    "print(\"File written to test.dfx\")"
   ]
  },
  {
   "cell_type": "markdown",
   "metadata": {},
   "source": [
    "## Reading the file"
   ]
  },
  {
   "cell_type": "code",
   "execution_count": null,
   "metadata": {},
   "outputs": [],
   "source": [
    "from pyapi_rts.api import Draft\n",
    "\n",
    "draft = Draft()\n",
    "draft.read_file(\"test.dfx\")\n",
    "print(\"File read from test.dfx\")\n",
    "print(\"get_subsystems():\", len(draft.subsystems))\n",
    "print(\"Subsystem 1:\", draft.subsystems[0].number)\n",
    "print(\"Subsystem 1 canvas size x:\", draft.subsystems[0].canvas_size_x)\n",
    "print(\"Subsystem 1 canvas size y:\", draft.subsystems[0].canvas_size_y)\n",
    "print(\"Subsystem 1 tab name:\", draft.subsystems[0].tab_name)"
   ]
  }
 ],
 "metadata": {
  "kernelspec": {
   "display_name": "Python 3.10.5 ('pyapi_rts-D7DhJms8-py3.10')",
   "language": "python",
   "name": "python3"
  },
  "language_info": {
   "codemirror_mode": {
    "name": "ipython",
    "version": 3
   },
   "file_extension": ".py",
   "mimetype": "text/x-python",
   "name": "python",
   "nbconvert_exporter": "python",
   "pygments_lexer": "ipython3",
   "version": "3.10.5"
  },
  "orig_nbformat": 4,
  "vscode": {
   "interpreter": {
    "hash": "abf7126b7f46429a4772291e1d000d5a41922c00d3186126f3ab334a4820f241"
   }
  }
 },
 "nbformat": 4,
 "nbformat_minor": 2
}
